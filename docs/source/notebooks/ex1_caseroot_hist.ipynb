{
 "cells": [
  {
   "cell_type": "markdown",
   "id": "58925327-c6fd-45e1-8877-40e44a8abcb0",
   "metadata": {},
   "source": [
    "# history files usage, case metadata generated from CESM CASEROOT"
   ]
  },
  {
   "cell_type": "code",
   "execution_count": 1,
   "id": "dede330f-e285-4c75-ab46-10305b1dad32",
   "metadata": {},
   "outputs": [],
   "source": [
    "import ast\n",
    "import os\n",
    "import os.path\n",
    "import pprint\n",
    "import warnings\n",
    "\n",
    "from dask_jobqueue import PBSCluster\n",
    "from distributed import Client\n",
    "from distributed.worker import get_client\n",
    "import intake\n",
    "\n",
    "from esm_catalog_utils import query_from_caseroot, caseroot_to_esm_datastore"
   ]
  },
  {
   "cell_type": "code",
   "execution_count": 2,
   "id": "9c1113d2-6b4c-4032-ac79-ebd20ddaac21",
   "metadata": {},
   "outputs": [],
   "source": [
    "%load_ext autoreload\n",
    "%autoreload 2"
   ]
  },
  {
   "cell_type": "markdown",
   "id": "0084fe5b-7412-4b68-a6db-6e74147c67f4",
   "metadata": {
    "tags": []
   },
   "source": [
    "## Specification of Input"
   ]
  },
  {
   "cell_type": "code",
   "execution_count": 3,
   "id": "1c145a87-788c-4b43-9852-81389edc250e",
   "metadata": {},
   "outputs": [],
   "source": [
    "caseroot = \"/glade/work/klindsay/cesm20_cases/B1850/b.e21.B1850.f19_g17.ex_output.001\""
   ]
  },
  {
   "cell_type": "markdown",
   "id": "9986e45b-0c28-4af2-b614-6a09266378dd",
   "metadata": {
    "tags": []
   },
   "source": [
    "## Obtain Computational Resources"
   ]
  },
  {
   "cell_type": "code",
   "execution_count": 4,
   "id": "edb18625-669e-46b6-ac05-e7719b0fc170",
   "metadata": {},
   "outputs": [
    {
     "data": {
      "text/html": [
       "<div>\n",
       "    <div style=\"width: 24px; height: 24px; background-color: #e1e1e1; border: 3px solid #9D9D9D; border-radius: 5px; position: absolute;\"> </div>\n",
       "    <div style=\"margin-left: 48px;\">\n",
       "        <h3 style=\"margin-bottom: 0px;\">Client</h3>\n",
       "        <p style=\"color: #9D9D9D; margin-bottom: 0px;\">Client-d04fd975-f4f1-11ed-95d1-3cecef1aca66</p>\n",
       "        <table style=\"width: 100%; text-align: left;\">\n",
       "\n",
       "        <tr>\n",
       "        \n",
       "            <td style=\"text-align: left;\"><strong>Connection method:</strong> Cluster object</td>\n",
       "            <td style=\"text-align: left;\"><strong>Cluster type:</strong> dask_jobqueue.PBSCluster</td>\n",
       "        \n",
       "        </tr>\n",
       "\n",
       "        \n",
       "            <tr>\n",
       "                <td style=\"text-align: left;\">\n",
       "                    <strong>Dashboard: </strong> <a href=\"https://jupyterhub.hpc.ucar.edu/stable/user/klindsay/esm_catalog_utils/proxy/8787/status\" target=\"_blank\">https://jupyterhub.hpc.ucar.edu/stable/user/klindsay/esm_catalog_utils/proxy/8787/status</a>\n",
       "                </td>\n",
       "                <td style=\"text-align: left;\"></td>\n",
       "            </tr>\n",
       "        \n",
       "\n",
       "        </table>\n",
       "\n",
       "        \n",
       "\n",
       "        \n",
       "            <details>\n",
       "            <summary style=\"margin-bottom: 20px;\"><h3 style=\"display: inline;\">Cluster Info</h3></summary>\n",
       "            <div class=\"jp-RenderedHTMLCommon jp-RenderedHTML jp-mod-trusted jp-OutputArea-output\">\n",
       "    <div style=\"width: 24px; height: 24px; background-color: #e1e1e1; border: 3px solid #9D9D9D; border-radius: 5px; position: absolute;\">\n",
       "    </div>\n",
       "    <div style=\"margin-left: 48px;\">\n",
       "        <h3 style=\"margin-bottom: 0px; margin-top: 0px;\">PBSCluster</h3>\n",
       "        <p style=\"color: #9D9D9D; margin-bottom: 0px;\">737d456e</p>\n",
       "        <table style=\"width: 100%; text-align: left;\">\n",
       "            <tr>\n",
       "                <td style=\"text-align: left;\">\n",
       "                    <strong>Dashboard:</strong> <a href=\"https://jupyterhub.hpc.ucar.edu/stable/user/klindsay/esm_catalog_utils/proxy/8787/status\" target=\"_blank\">https://jupyterhub.hpc.ucar.edu/stable/user/klindsay/esm_catalog_utils/proxy/8787/status</a>\n",
       "                </td>\n",
       "                <td style=\"text-align: left;\">\n",
       "                    <strong>Workers:</strong> 0\n",
       "                </td>\n",
       "            </tr>\n",
       "            <tr>\n",
       "                <td style=\"text-align: left;\">\n",
       "                    <strong>Total threads:</strong> 0\n",
       "                </td>\n",
       "                <td style=\"text-align: left;\">\n",
       "                    <strong>Total memory:</strong> 0 B\n",
       "                </td>\n",
       "            </tr>\n",
       "            \n",
       "        </table>\n",
       "\n",
       "        <details>\n",
       "            <summary style=\"margin-bottom: 20px;\">\n",
       "                <h3 style=\"display: inline;\">Scheduler Info</h3>\n",
       "            </summary>\n",
       "\n",
       "            <div style=\"\">\n",
       "    <div>\n",
       "        <div style=\"width: 24px; height: 24px; background-color: #FFF7E5; border: 3px solid #FF6132; border-radius: 5px; position: absolute;\"> </div>\n",
       "        <div style=\"margin-left: 48px;\">\n",
       "            <h3 style=\"margin-bottom: 0px;\">Scheduler</h3>\n",
       "            <p style=\"color: #9D9D9D; margin-bottom: 0px;\">Scheduler-558daf63-615e-4e4a-9e3c-19c3fed3588f</p>\n",
       "            <table style=\"width: 100%; text-align: left;\">\n",
       "                <tr>\n",
       "                    <td style=\"text-align: left;\">\n",
       "                        <strong>Comm:</strong> tcp://10.12.206.39:41272\n",
       "                    </td>\n",
       "                    <td style=\"text-align: left;\">\n",
       "                        <strong>Workers:</strong> 0\n",
       "                    </td>\n",
       "                </tr>\n",
       "                <tr>\n",
       "                    <td style=\"text-align: left;\">\n",
       "                        <strong>Dashboard:</strong> <a href=\"https://jupyterhub.hpc.ucar.edu/stable/user/klindsay/esm_catalog_utils/proxy/8787/status\" target=\"_blank\">https://jupyterhub.hpc.ucar.edu/stable/user/klindsay/esm_catalog_utils/proxy/8787/status</a>\n",
       "                    </td>\n",
       "                    <td style=\"text-align: left;\">\n",
       "                        <strong>Total threads:</strong> 0\n",
       "                    </td>\n",
       "                </tr>\n",
       "                <tr>\n",
       "                    <td style=\"text-align: left;\">\n",
       "                        <strong>Started:</strong> Just now\n",
       "                    </td>\n",
       "                    <td style=\"text-align: left;\">\n",
       "                        <strong>Total memory:</strong> 0 B\n",
       "                    </td>\n",
       "                </tr>\n",
       "            </table>\n",
       "        </div>\n",
       "    </div>\n",
       "\n",
       "    <details style=\"margin-left: 48px;\">\n",
       "        <summary style=\"margin-bottom: 20px;\">\n",
       "            <h3 style=\"display: inline;\">Workers</h3>\n",
       "        </summary>\n",
       "\n",
       "        \n",
       "\n",
       "    </details>\n",
       "</div>\n",
       "\n",
       "        </details>\n",
       "    </div>\n",
       "</div>\n",
       "            </details>\n",
       "        \n",
       "\n",
       "    </div>\n",
       "</div>"
      ],
      "text/plain": [
       "<Client: 'tcp://10.12.206.39:41272' processes=0 threads=0, memory=0 B>"
      ]
     },
     "execution_count": 4,
     "metadata": {},
     "output_type": "execute_result"
    }
   ],
   "source": [
    "user = os.getenv('USER')\n",
    "logdir = f'/glade/scratch/{user}/dask_tmp'\n",
    "with warnings.catch_warnings():\n",
    "    warnings.filterwarnings(action=\"ignore\", message=\".*already in use\", module=\".*node\")\n",
    "    cluster = PBSCluster(\n",
    "        cores = 1,\n",
    "        memory = '4GiB',\n",
    "        processes = 1,\n",
    "        local_directory = logdir,\n",
    "        log_directory = logdir,\n",
    "        resource_spec = 'select=1:ncpus=1:mem=4GB',\n",
    "        queue = 'casper',\n",
    "        account = 'P93300070',\n",
    "        walltime = '0:30:00',\n",
    "        interface = 'ib0',\n",
    "    )\n",
    "\n",
    "cluster.scale(12)\n",
    "\n",
    "client = Client(cluster)\n",
    "client"
   ]
  },
  {
   "cell_type": "markdown",
   "id": "005c3340-797b-4f06-903b-4c08805ac7ea",
   "metadata": {
    "tags": []
   },
   "source": [
    "## Generate and save catalog"
   ]
  },
  {
   "cell_type": "code",
   "execution_count": 5,
   "id": "0b61f874-4444-48d9-85b9-52d4694de214",
   "metadata": {},
   "outputs": [
    {
     "name": "stdout",
     "output_type": "stream",
     "text": [
      "creating esm_datastore\n",
      "generating esm_datastore for b.e21.B1850.f19_g17.ex_output.001\n",
      "<sample catalog with 13 dataset(s) from 351 asset(s)>\n",
      "CPU times: user 1.18 s, sys: 248 ms, total: 1.42 s\n",
      "Wall time: 12.7 s\n"
     ]
    }
   ],
   "source": [
    "%%time\n",
    "print(\"creating esm_datastore\")\n",
    "esm_datastore = caseroot_to_esm_datastore(caseroot, use_dask=True)\n",
    "print(esm_datastore)"
   ]
  },
  {
   "cell_type": "code",
   "execution_count": 6,
   "id": "ae9d2c69-3305-43c6-b8d0-abc89ad26091",
   "metadata": {},
   "outputs": [
    {
     "name": "stdout",
     "output_type": "stream",
     "text": [
      "['month_1' 'day_1' 'year_1' 'unknown' 'once']\n"
     ]
    }
   ],
   "source": [
    "df = esm_datastore.df\n",
    "vals = df.frequency.unique() \n",
    "print(vals)"
   ]
  },
  {
   "cell_type": "code",
   "execution_count": 7,
   "id": "7ce7481d-52d3-4b2e-a488-7a1ed78e9cdb",
   "metadata": {},
   "outputs": [
    {
     "name": "stdout",
     "output_type": "stream",
     "text": [
      "Successfully wrote ESM catalog json file to: file:///glade/work/klindsay/analysis/esm_catalog_utils/notebooks/generated/b.e21.B1850.f19_g17.ex_output.001.json\n"
     ]
    }
   ],
   "source": [
    "case = query_from_caseroot(caseroot, \"CASE\")\n",
    "datastore_directory = os.path.join(os.getcwd(), \"generated\")\n",
    "os.makedirs(datastore_directory, exist_ok=True)\n",
    "esm_datastore.serialize(name=case, directory=datastore_directory, catalog_type=\"file\")"
   ]
  },
  {
   "cell_type": "markdown",
   "id": "f1a94ddb-36b8-415c-9252-b3d90eec905d",
   "metadata": {
    "tags": []
   },
   "source": [
    "## Generate catalog, in update mode"
   ]
  },
  {
   "cell_type": "code",
   "execution_count": 8,
   "id": "b00ce548-ac7d-4b47-856c-67f74c5d9295",
   "metadata": {
    "tags": []
   },
   "outputs": [
    {
     "name": "stdout",
     "output_type": "stream",
     "text": [
      "updating esm_datastore\n",
      "<b.e21.B1850.f19_g17.ex_output.001 catalog with 13 dataset(s) from 351 asset(s)>\n",
      "appending esm_datastore for b.e21.B1850.f19_g17.ex_output.001\n",
      "<b.e21.B1850.f19_g17.ex_output.001 catalog with 13 dataset(s) from 351 asset(s)>\n",
      "CPU times: user 537 ms, sys: 29.2 ms, total: 567 ms\n",
      "Wall time: 4.53 s\n"
     ]
    }
   ],
   "source": [
    "%%time\n",
    "path = os.path.join(datastore_directory, f\"{case}.json\")\n",
    "print(\"updating esm_datastore\")\n",
    "esm_datastore = intake.open_esm_datastore(path)\n",
    "print(esm_datastore)\n",
    "esm_datastore = caseroot_to_esm_datastore(\n",
    "    caseroot, esm_datastore_in=esm_datastore, use_dask=True\n",
    ")\n",
    "print(esm_datastore)"
   ]
  },
  {
   "cell_type": "markdown",
   "id": "fdfde743-5052-4f32-882b-2aec3177611e",
   "metadata": {
    "tags": []
   },
   "source": [
    "## Load catalog\n",
    "## use read_csv_kwargs argument to enable parsing of list output in varname column"
   ]
  },
  {
   "cell_type": "code",
   "execution_count": 9,
   "id": "8cd78dfb-7c60-4fe6-820f-27db37fd9bbc",
   "metadata": {},
   "outputs": [
    {
     "name": "stdout",
     "output_type": "stream",
     "text": [
      "<b.e21.B1850.f19_g17.ex_output.001 catalog with 13 dataset(s) from 351 asset(s)>\n"
     ]
    },
    {
     "data": {
      "text/plain": [
       "Index(['case', 'scomp', 'component', 'path', 'stream', 'datestring',\n",
       "       'frequency', 'date_start', 'date_end', 'varname', 'size'],\n",
       "      dtype='object')"
      ]
     },
     "execution_count": 9,
     "metadata": {},
     "output_type": "execute_result"
    }
   ],
   "source": [
    "esm_datastore = intake.open_esm_datastore(\n",
    "    path, read_csv_kwargs={\"converters\": {\"varname\": ast.literal_eval}}\n",
    ")\n",
    "print(esm_datastore)\n",
    "esm_datastore.df.columns"
   ]
  },
  {
   "cell_type": "code",
   "execution_count": 10,
   "id": "da6a3417-45a6-4c8d-8cb5-ca53fd790760",
   "metadata": {},
   "outputs": [
    {
     "name": "stdout",
     "output_type": "stream",
     "text": [
      "['month_1' 'day_1' 'year_1' 'unknown' 'once']\n"
     ]
    }
   ],
   "source": [
    "df = esm_datastore.df\n",
    "vals = df.frequency.unique() \n",
    "print(vals)"
   ]
  },
  {
   "cell_type": "markdown",
   "id": "0fc1420e-d1b8-4de8-ac29-389b12179145",
   "metadata": {},
   "source": [
    "## verify that dataset_dict can be created for each scomp"
   ]
  },
  {
   "cell_type": "code",
   "execution_count": 11,
   "id": "6f930d14-8c9c-4ad6-9495-c4baccd7eadb",
   "metadata": {},
   "outputs": [],
   "source": [
    "## \"coords\": \"minimal\" required for CLM history files if output spans multiple submissions\n",
    "## \"compat\": \"override\" improves performance of combine step\n",
    "##   and requires \"coords\": \"minimal\"\n",
    "xarray_combine_by_coords_kwargs = {\n",
    "    \"coords\": \"minimal\", \"compat\": \"override\", \"data_vars\": \"minimal\"\n",
    "}"
   ]
  },
  {
   "cell_type": "code",
   "execution_count": null,
   "id": "58f6f203-e60a-4d46-9e82-5a8b77880f66",
   "metadata": {},
   "outputs": [
    {
     "name": "stdout",
     "output_type": "stream",
     "text": [
      "scomp=cam\n",
      "<b.e21.B1850.f19_g17.ex_output.001 catalog with 2 dataset(s) from 52 asset(s)>\n",
      "\n",
      "--> The keys in the returned dictionary of datasets are constructed as follows:\n",
      "\t'case.scomp.component.stream.frequency'\n"
     ]
    },
    {
     "data": {
      "text/html": [
       "\n",
       "<style>\n",
       "    /* Turns off some styling */\n",
       "    progress {\n",
       "        /* gets rid of default border in Firefox and Opera. */\n",
       "        border: none;\n",
       "        /* Needs to be in here for Safari polyfill so background images work as expected. */\n",
       "        background-size: auto;\n",
       "    }\n",
       "    progress:not([value]), progress:not([value])::-webkit-progress-bar {\n",
       "        background: repeating-linear-gradient(45deg, #7e7e7e, #7e7e7e 10px, #5c5c5c 10px, #5c5c5c 20px);\n",
       "    }\n",
       "    .progress-bar-interrupted, .progress-bar-interrupted::-webkit-progress-bar {\n",
       "        background: #F44336;\n",
       "    }\n",
       "</style>\n"
      ],
      "text/plain": [
       "<IPython.core.display.HTML object>"
      ]
     },
     "metadata": {},
     "output_type": "display_data"
    },
    {
     "data": {
      "text/html": [
       "\n",
       "    <div>\n",
       "      <progress value='2' class='' max='2' style='width:300px; height:20px; vertical-align: middle;'></progress>\n",
       "      100.00% [2/2 00:12&lt;00:00]\n",
       "    </div>\n",
       "    "
      ],
      "text/plain": [
       "<IPython.core.display.HTML object>"
      ]
     },
     "metadata": {},
     "output_type": "display_data"
    },
    {
     "name": "stdout",
     "output_type": "stream",
     "text": [
      "['b.e21.B1850.f19_g17.ex_output.001.cam.atm.i.day_1',\n",
      " 'b.e21.B1850.f19_g17.ex_output.001.cam.atm.h0.month_1']\n",
      "<xarray.Dataset>\n",
      "Dimensions:       (slat: 95, lon: 144, lat: 96, slon: 144, lev: 32, ilev: 33,\n",
      "                   time: 4, nbnd: 2)\n",
      "Coordinates: (12/20)\n",
      "  * slat          (slat) float64 -89.05 -87.16 -85.26 ... 85.26 87.16 89.05\n",
      "  * lon           (lon) float64 0.0 2.5 5.0 7.5 10.0 ... 350.0 352.5 355.0 357.5\n",
      "    w_stag        (slat) float64 dask.array<chunksize=(95,), meta=np.ndarray>\n",
      "  * lat           (lat) float64 -90.0 -88.11 -86.21 -84.32 ... 86.21 88.11 90.0\n",
      "  * slon          (slon) float64 -1.25 1.25 3.75 6.25 ... 351.2 353.8 356.2\n",
      "    gw            (lat) float64 dask.array<chunksize=(96,), meta=np.ndarray>\n",
      "    ...            ...\n",
      "    time_bnds     (time, nbnd) object dask.array<chunksize=(1, 2), meta=np.ndarray>\n",
      "    ndbase        int32 ...\n",
      "    nsbase        int32 ...\n",
      "    nbdate        int32 ...\n",
      "    nbsec         int32 ...\n",
      "    mdt           int32 ...\n",
      "Dimensions without coordinates: nbnd\n",
      "Data variables: (12/48)\n",
      "    date          (time) int32 dask.array<chunksize=(1,), meta=np.ndarray>\n",
      "    datesec       (time) int32 dask.array<chunksize=(1,), meta=np.ndarray>\n",
      "    date_written  (time) |S8 dask.array<chunksize=(1,), meta=np.ndarray>\n",
      "    time_written  (time) |S8 dask.array<chunksize=(1,), meta=np.ndarray>\n",
      "    ndcur         (time) int32 dask.array<chunksize=(1,), meta=np.ndarray>\n",
      "    nscur         (time) int32 dask.array<chunksize=(1,), meta=np.ndarray>\n",
      "    ...            ...\n",
      "    pom_a4        (time, lev, lat, lon) float64 dask.array<chunksize=(1, 32, 96, 144), meta=np.ndarray>\n",
      "    so4_a1        (time, lev, lat, lon) float64 dask.array<chunksize=(1, 32, 96, 144), meta=np.ndarray>\n",
      "    so4_a2        (time, lev, lat, lon) float64 dask.array<chunksize=(1, 32, 96, 144), meta=np.ndarray>\n",
      "    so4_a3        (time, lev, lat, lon) float64 dask.array<chunksize=(1, 32, 96, 144), meta=np.ndarray>\n",
      "    soa_a1        (time, lev, lat, lon) float64 dask.array<chunksize=(1, 32, 96, 144), meta=np.ndarray>\n",
      "    soa_a2        (time, lev, lat, lon) float64 dask.array<chunksize=(1, 32, 96, 144), meta=np.ndarray>\n",
      "Attributes: (12/17)\n",
      "    Conventions:                     CF-1.0\n",
      "    source:                          CAM\n",
      "    case:                            b.e21.B1850.f19_g17.ex_output.001\n",
      "    logname:                         klindsay\n",
      "    initial_file:                    b.e20.B1850.f19_g17.release_cesm2_1_0.02...\n",
      "    topography_file:                 /glade/p/cesmdata/cseg/inputdata/atm/cam...\n",
      "    ...                              ...\n",
      "    intake_esm_attrs:component:      atm\n",
      "    intake_esm_attrs:stream:         i\n",
      "    intake_esm_attrs:frequency:      day_1\n",
      "    intake_esm_attrs:varname:        date,datesec,date_written,time_written,n...\n",
      "    intake_esm_attrs:_data_format_:  netcdf\n",
      "    intake_esm_dataset_key:          b.e21.B1850.f19_g17.ex_output.001.cam.at...\n",
      "============================================================\n",
      "scomp=cism\n",
      "<b.e21.B1850.f19_g17.ex_output.001 catalog with 2 dataset(s) from 5 asset(s)>\n",
      "\n",
      "--> The keys in the returned dictionary of datasets are constructed as follows:\n",
      "\t'case.scomp.component.stream.frequency'\n"
     ]
    },
    {
     "data": {
      "text/html": [
       "\n",
       "<style>\n",
       "    /* Turns off some styling */\n",
       "    progress {\n",
       "        /* gets rid of default border in Firefox and Opera. */\n",
       "        border: none;\n",
       "        /* Needs to be in here for Safari polyfill so background images work as expected. */\n",
       "        background-size: auto;\n",
       "    }\n",
       "    progress:not([value]), progress:not([value])::-webkit-progress-bar {\n",
       "        background: repeating-linear-gradient(45deg, #7e7e7e, #7e7e7e 10px, #5c5c5c 10px, #5c5c5c 20px);\n",
       "    }\n",
       "    .progress-bar-interrupted, .progress-bar-interrupted::-webkit-progress-bar {\n",
       "        background: #F44336;\n",
       "    }\n",
       "</style>\n"
      ],
      "text/plain": [
       "<IPython.core.display.HTML object>"
      ]
     },
     "metadata": {},
     "output_type": "display_data"
    },
    {
     "data": {
      "text/html": [
       "\n",
       "    <div>\n",
       "      <progress value='2' class='' max='2' style='width:300px; height:20px; vertical-align: middle;'></progress>\n",
       "      100.00% [2/2 00:03&lt;00:00]\n",
       "    </div>\n",
       "    "
      ],
      "text/plain": [
       "<IPython.core.display.HTML object>"
      ]
     },
     "metadata": {},
     "output_type": "display_data"
    },
    {
     "name": "stdout",
     "output_type": "stream",
     "text": [
      "['b.e21.B1850.f19_g17.ex_output.001.cism.glc.initial_hist.unknown',\n",
      " 'b.e21.B1850.f19_g17.ex_output.001.cism.glc.h.year_1']\n",
      "<xarray.Dataset>\n",
      "Dimensions:        (time: 1, level: 11, lithoz: 20, staglevel: 10,\n",
      "                    stagwbndlevel: 12, x0: 415, x1: 416, y0: 703, y1: 704)\n",
      "Coordinates:\n",
      "  * time           (time) object 0001-01-01 00:00:00\n",
      "  * level          (level) float64 0.0 0.2314 0.4074 0.5444 ... 0.9218 0.964 1.0\n",
      "  * lithoz         (lithoz) float64 9.969e+36 9.969e+36 ... 9.969e+36 9.969e+36\n",
      "  * staglevel      (staglevel) float64 0.1157 0.3194 0.4759 ... 0.9429 0.982\n",
      "  * stagwbndlevel  (stagwbndlevel) float64 0.0 0.1157 0.3194 ... 0.982 1.0\n",
      "  * x0             (x0) float64 -7.11e+05 -7.07e+05 ... 9.41e+05 9.45e+05\n",
      "  * x1             (x1) float64 -7.13e+05 -7.09e+05 ... 9.43e+05 9.47e+05\n",
      "  * y0             (y0) float64 -3.394e+06 -3.39e+06 ... -5.9e+05 -5.86e+05\n",
      "  * y1             (y1) float64 -3.396e+06 -3.392e+06 ... -5.88e+05 -5.84e+05\n",
      "Data variables:\n",
      "    internal_time  (time) object dask.array<chunksize=(1,), meta=np.ndarray>\n",
      "    tstep_count    (time) int32 dask.array<chunksize=(1,), meta=np.ndarray>\n",
      "    mapping        |S1 ...\n",
      "    artm           (time, y1, x1) float64 dask.array<chunksize=(1, 704, 416), meta=np.ndarray>\n",
      "    smb            (time, y1, x1) float64 dask.array<chunksize=(1, 704, 416), meta=np.ndarray>\n",
      "    thk            (time, y1, x1) float64 dask.array<chunksize=(1, 704, 416), meta=np.ndarray>\n",
      "    topg           (time, y1, x1) float64 dask.array<chunksize=(1, 704, 416), meta=np.ndarray>\n",
      "    usurf          (time, y1, x1) float64 dask.array<chunksize=(1, 704, 416), meta=np.ndarray>\n",
      "Attributes: (12/28)\n",
      "    Conventions:                     CF-1.3\n",
      "    title:                           \n",
      "    institution:                     \n",
      "    source:                          \n",
      "    history:                         \n",
      "    references:                      \n",
      "    ...                              ...\n",
      "    intake_esm_attrs:date_start:     0001-01-01\n",
      "    intake_esm_attrs:date_end:       0001-01-01\n",
      "    intake_esm_attrs:varname:        internal_time,tstep_count,artm,smb,thk,t...\n",
      "    intake_esm_attrs:size:           11736996\n",
      "    intake_esm_attrs:_data_format_:  netcdf\n",
      "    intake_esm_dataset_key:          b.e21.B1850.f19_g17.ex_output.001.cism.g...\n",
      "============================================================\n",
      "scomp=cice\n",
      "<b.e21.B1850.f19_g17.ex_output.001 catalog with 1 dataset(s) from 48 asset(s)>\n",
      "\n",
      "--> The keys in the returned dictionary of datasets are constructed as follows:\n",
      "\t'case.scomp.component.stream.frequency'\n"
     ]
    },
    {
     "data": {
      "text/html": [
       "\n",
       "<style>\n",
       "    /* Turns off some styling */\n",
       "    progress {\n",
       "        /* gets rid of default border in Firefox and Opera. */\n",
       "        border: none;\n",
       "        /* Needs to be in here for Safari polyfill so background images work as expected. */\n",
       "        background-size: auto;\n",
       "    }\n",
       "    progress:not([value]), progress:not([value])::-webkit-progress-bar {\n",
       "        background: repeating-linear-gradient(45deg, #7e7e7e, #7e7e7e 10px, #5c5c5c 10px, #5c5c5c 20px);\n",
       "    }\n",
       "    .progress-bar-interrupted, .progress-bar-interrupted::-webkit-progress-bar {\n",
       "        background: #F44336;\n",
       "    }\n",
       "</style>\n"
      ],
      "text/plain": [
       "<IPython.core.display.HTML object>"
      ]
     },
     "metadata": {},
     "output_type": "display_data"
    },
    {
     "data": {
      "text/html": [
       "\n",
       "    <div>\n",
       "      <progress value='1' class='' max='1' style='width:300px; height:20px; vertical-align: middle;'></progress>\n",
       "      100.00% [1/1 00:02&lt;00:00]\n",
       "    </div>\n",
       "    "
      ],
      "text/plain": [
       "<IPython.core.display.HTML object>"
      ]
     },
     "metadata": {},
     "output_type": "display_data"
    },
    {
     "name": "stdout",
     "output_type": "stream",
     "text": [
      "['b.e21.B1850.f19_g17.ex_output.001.cice.ice.h.month_1']\n",
      "<xarray.Dataset>\n",
      "Dimensions:      (time: 48, d2: 2, nj: 384, ni: 320, nc: 5, nkice: 8,\n",
      "                  nksnow: 3, nkbio: 5, nvertices: 4)\n",
      "Coordinates: (12/25)\n",
      "  * time         (time) object 0001-02-01 00:00:00 ... 0005-01-01 00:00:00\n",
      "    time_bounds  (time, d2) object dask.array<chunksize=(1, 2), meta=np.ndarray>\n",
      "    TLON         (nj, ni) float32 dask.array<chunksize=(384, 320), meta=np.ndarray>\n",
      "    TLAT         (nj, ni) float32 dask.array<chunksize=(384, 320), meta=np.ndarray>\n",
      "    ULON         (nj, ni) float32 dask.array<chunksize=(384, 320), meta=np.ndarray>\n",
      "    ULAT         (nj, ni) float32 dask.array<chunksize=(384, 320), meta=np.ndarray>\n",
      "    ...           ...\n",
      "    ANGLE        (nj, ni) float32 dask.array<chunksize=(384, 320), meta=np.ndarray>\n",
      "    ANGLET       (nj, ni) float32 dask.array<chunksize=(384, 320), meta=np.ndarray>\n",
      "    lont_bounds  (nj, ni, nvertices) float32 dask.array<chunksize=(384, 320, 4), meta=np.ndarray>\n",
      "    latt_bounds  (nj, ni, nvertices) float32 dask.array<chunksize=(384, 320, 4), meta=np.ndarray>\n",
      "    lonu_bounds  (nj, ni, nvertices) float32 dask.array<chunksize=(384, 320, 4), meta=np.ndarray>\n",
      "    latu_bounds  (nj, ni, nvertices) float32 dask.array<chunksize=(384, 320, 4), meta=np.ndarray>\n",
      "Dimensions without coordinates: d2, nj, ni, nc, nkice, nksnow, nkbio, nvertices\n",
      "Data variables: (12/68)\n",
      "    hi           (time, nj, ni) float32 dask.array<chunksize=(1, 384, 320), meta=np.ndarray>\n",
      "    hs           (time, nj, ni) float32 dask.array<chunksize=(1, 384, 320), meta=np.ndarray>\n",
      "    snowfrac     (time, nj, ni) float32 dask.array<chunksize=(1, 384, 320), meta=np.ndarray>\n",
      "    Tsfc         (time, nj, ni) float32 dask.array<chunksize=(1, 384, 320), meta=np.ndarray>\n",
      "    aice         (time, nj, ni) float32 dask.array<chunksize=(1, 384, 320), meta=np.ndarray>\n",
      "    uvel         (time, nj, ni) float32 dask.array<chunksize=(1, 384, 320), meta=np.ndarray>\n",
      "    ...           ...\n",
      "    aicen        (time, nc, nj, ni) float32 dask.array<chunksize=(1, 5, 384, 320), meta=np.ndarray>\n",
      "    vicen        (time, nc, nj, ni) float32 dask.array<chunksize=(1, 5, 384, 320), meta=np.ndarray>\n",
      "    vsnon        (time, nc, nj, ni) float32 dask.array<chunksize=(1, 5, 384, 320), meta=np.ndarray>\n",
      "    fswsfcn      (time, nc, nj, ni) float32 dask.array<chunksize=(1, 5, 384, 320), meta=np.ndarray>\n",
      "    fswintn      (time, nc, nj, ni) float32 dask.array<chunksize=(1, 5, 384, 320), meta=np.ndarray>\n",
      "    fswthrun     (time, nc, nj, ni) float32 dask.array<chunksize=(1, 5, 384, 320), meta=np.ndarray>\n",
      "Attributes: (12/19)\n",
      "    title:                           b.e21.B1850.f19_g17.ex_output.001\n",
      "    contents:                        Diagnostic and Prognostic Variables\n",
      "    source:                          Los Alamos Sea Ice Model (CICE) Version 5\n",
      "    time_period_freq:                month_1\n",
      "    model_doi_url:                   https://doi.org/10.5065/D67H1H0V\n",
      "    comment:                         All years have exactly 365 days\n",
      "    ...                              ...\n",
      "    intake_esm_attrs:stream:         h\n",
      "    intake_esm_attrs:frequency:      month_1\n",
      "    intake_esm_attrs:varname:        hi,hs,snowfrac,Tsfc,aice,uvel,vvel,uatm,...\n",
      "    intake_esm_attrs:size:           60485728\n",
      "    intake_esm_attrs:_data_format_:  netcdf\n",
      "    intake_esm_dataset_key:          b.e21.B1850.f19_g17.ex_output.001.cice.i...\n",
      "============================================================\n",
      "scomp=clm2\n",
      "<b.e21.B1850.f19_g17.ex_output.001 catalog with 1 dataset(s) from 48 asset(s)>\n",
      "\n",
      "--> The keys in the returned dictionary of datasets are constructed as follows:\n",
      "\t'case.scomp.component.stream.frequency'\n"
     ]
    },
    {
     "data": {
      "text/html": [
       "\n",
       "<style>\n",
       "    /* Turns off some styling */\n",
       "    progress {\n",
       "        /* gets rid of default border in Firefox and Opera. */\n",
       "        border: none;\n",
       "        /* Needs to be in here for Safari polyfill so background images work as expected. */\n",
       "        background-size: auto;\n",
       "    }\n",
       "    progress:not([value]), progress:not([value])::-webkit-progress-bar {\n",
       "        background: repeating-linear-gradient(45deg, #7e7e7e, #7e7e7e 10px, #5c5c5c 10px, #5c5c5c 20px);\n",
       "    }\n",
       "    .progress-bar-interrupted, .progress-bar-interrupted::-webkit-progress-bar {\n",
       "        background: #F44336;\n",
       "    }\n",
       "</style>\n"
      ],
      "text/plain": [
       "<IPython.core.display.HTML object>"
      ]
     },
     "metadata": {},
     "output_type": "display_data"
    },
    {
     "data": {
      "text/html": [
       "\n",
       "    <div>\n",
       "      <progress value='1' class='' max='1' style='width:300px; height:20px; vertical-align: middle;'></progress>\n",
       "      100.00% [1/1 00:14&lt;00:00]\n",
       "    </div>\n",
       "    "
      ],
      "text/plain": [
       "<IPython.core.display.HTML object>"
      ]
     },
     "metadata": {},
     "output_type": "display_data"
    },
    {
     "name": "stdout",
     "output_type": "stream",
     "text": [
      "['b.e21.B1850.f19_g17.ex_output.001.clm2.lnd.h0.month_1']\n",
      "<xarray.Dataset>\n",
      "Dimensions:                          (levgrnd: 25, levlak: 10, levdcmp: 25,\n",
      "                                      time: 48, hist_interval: 2, lon: 144,\n",
      "                                      lat: 96, levsoi: 20, cft: 64,\n",
      "                                      glc_nec: 10, ltype: 9, natpft: 15,\n",
      "                                      nvegwcs: 4)\n",
      "Coordinates: (12/20)\n",
      "  * levgrnd                          (levgrnd) float32 0.01 0.04 ... 28.87 42.0\n",
      "  * levlak                           (levlak) float32 0.05 0.6 ... 34.33 44.78\n",
      "  * levdcmp                          (levdcmp) float32 0.01 0.04 ... 28.87 42.0\n",
      "  * time                             (time) object 0001-02-01 00:00:00 ... 00...\n",
      "    time_bounds                      (time, hist_interval) object dask.array<chunksize=(1, 2), meta=np.ndarray>\n",
      "  * lon                              (lon) float32 0.0 2.5 5.0 ... 355.0 357.5\n",
      "    ...                               ...\n",
      "    WATSAT                           (levgrnd, lat, lon) float32 dask.array<chunksize=(25, 96, 144), meta=np.ndarray>\n",
      "    SUCSAT                           (levgrnd, lat, lon) float32 dask.array<chunksize=(25, 96, 144), meta=np.ndarray>\n",
      "    BSW                              (levgrnd, lat, lon) float32 dask.array<chunksize=(25, 96, 144), meta=np.ndarray>\n",
      "    HKSAT                            (levgrnd, lat, lon) float32 dask.array<chunksize=(25, 96, 144), meta=np.ndarray>\n",
      "    ZLAKE                            (levlak, lat, lon) float32 dask.array<chunksize=(10, 96, 144), meta=np.ndarray>\n",
      "    DZLAKE                           (levlak, lat, lon) float32 dask.array<chunksize=(10, 96, 144), meta=np.ndarray>\n",
      "Dimensions without coordinates: hist_interval, levsoi, cft, glc_nec, ltype,\n",
      "                                natpft, nvegwcs\n",
      "Data variables: (12/465)\n",
      "    mcdate                           (time) int32 dask.array<chunksize=(1,), meta=np.ndarray>\n",
      "    mcsec                            (time) int32 dask.array<chunksize=(1,), meta=np.ndarray>\n",
      "    mdcur                            (time) int32 dask.array<chunksize=(1,), meta=np.ndarray>\n",
      "    mscur                            (time) int32 dask.array<chunksize=(1,), meta=np.ndarray>\n",
      "    nstep                            (time) int32 dask.array<chunksize=(1,), meta=np.ndarray>\n",
      "    date_written                     (time) |S16 dask.array<chunksize=(1,), meta=np.ndarray>\n",
      "    ...                               ...\n",
      "    XSMRPOOL                         (time, lat, lon) float32 dask.array<chunksize=(1, 96, 144), meta=np.ndarray>\n",
      "    XSMRPOOL_RECOVER                 (time, lat, lon) float32 dask.array<chunksize=(1, 96, 144), meta=np.ndarray>\n",
      "    ZBOT                             (time, lat, lon) float32 dask.array<chunksize=(1, 96, 144), meta=np.ndarray>\n",
      "    ZWT                              (time, lat, lon) float32 dask.array<chunksize=(1, 96, 144), meta=np.ndarray>\n",
      "    ZWT_CH4_UNSAT                    (time, lat, lon) float32 dask.array<chunksize=(1, 96, 144), meta=np.ndarray>\n",
      "    ZWT_PERCH                        (time, lat, lon) float32 dask.array<chunksize=(1, 96, 144), meta=np.ndarray>\n",
      "Attributes: (12/108)\n",
      "    title:                                     CLM History file information\n",
      "    comment:                                   NOTE: None of the variables ar...\n",
      "    Conventions:                               CF-1.0\n",
      "    source:                                    Community Land Model CLM4.0\n",
      "    hostname:                                  cheyenne\n",
      "    username:                                  klindsay\n",
      "    ...                                        ...\n",
      "    intake_esm_attrs:stream:                   h0\n",
      "    intake_esm_attrs:frequency:                month_1\n",
      "    intake_esm_attrs:varname:                  mcdate,mcsec,mdcur,mscur,nstep...\n",
      "    intake_esm_attrs:_data_format_:            netcdf\n",
      "    Time_constant_3Dvars:                      ZSOI:DZSOI:WATSAT:SUCSAT:BSW:H...\n",
      "    intake_esm_dataset_key:                    b.e21.B1850.f19_g17.ex_output....\n",
      "============================================================\n",
      "scomp=pop\n",
      "<b.e21.B1850.f19_g17.ex_output.001 catalog with 6 dataset(s) from 150 asset(s)>\n",
      "\n",
      "--> The keys in the returned dictionary of datasets are constructed as follows:\n",
      "\t'case.scomp.component.stream.frequency'\n"
     ]
    },
    {
     "data": {
      "text/html": [
       "\n",
       "<style>\n",
       "    /* Turns off some styling */\n",
       "    progress {\n",
       "        /* gets rid of default border in Firefox and Opera. */\n",
       "        border: none;\n",
       "        /* Needs to be in here for Safari polyfill so background images work as expected. */\n",
       "        background-size: auto;\n",
       "    }\n",
       "    progress:not([value]), progress:not([value])::-webkit-progress-bar {\n",
       "        background: repeating-linear-gradient(45deg, #7e7e7e, #7e7e7e 10px, #5c5c5c 10px, #5c5c5c 20px);\n",
       "    }\n",
       "    .progress-bar-interrupted, .progress-bar-interrupted::-webkit-progress-bar {\n",
       "        background: #F44336;\n",
       "    }\n",
       "</style>\n"
      ],
      "text/plain": [
       "<IPython.core.display.HTML object>"
      ]
     },
     "metadata": {},
     "output_type": "display_data"
    },
    {
     "data": {
      "text/html": [
       "\n",
       "    <div>\n",
       "      <progress value='3' class='' max='6' style='width:300px; height:20px; vertical-align: middle;'></progress>\n",
       "      50.00% [3/6 00:04&lt;00:04]\n",
       "    </div>\n",
       "    "
      ],
      "text/plain": [
       "<IPython.core.display.HTML object>"
      ]
     },
     "metadata": {},
     "output_type": "display_data"
    }
   ],
   "source": [
    "for scomp in df.scomp.unique():\n",
    "    print(f\"scomp={scomp}\")\n",
    "    subset = esm_datastore.search(scomp=scomp)\n",
    "    print(subset)\n",
    "\n",
    "    with warnings.catch_warnings():\n",
    "        warnings.filterwarnings(\n",
    "            action=\"ignore\", message=\".*single-machine\", module=\".*base\"\n",
    "        )\n",
    "        # ds_dict = subset.to_dataset_dict(xarray_open_kwargs={\"drop_variables\": [\"average_T1\", \"average_T2\"]})\n",
    "        ds_dict = subset.to_dataset_dict(\n",
    "            xarray_combine_by_coords_kwargs=xarray_combine_by_coords_kwargs\n",
    "        )\n",
    "        pprint.pprint(list(ds_dict.keys()))\n",
    "        key = list(ds_dict)[0]\n",
    "        ds = ds_dict[key]\n",
    "        print(ds)\n",
    "\n",
    "    print(\"============================================================\")"
   ]
  },
  {
   "cell_type": "markdown",
   "id": "ed837fb6-c6ce-4730-8a25-f7adfbea4cbc",
   "metadata": {},
   "source": [
    "## plot timeseries of daily FG_CO2 from the ocean model"
   ]
  },
  {
   "cell_type": "code",
   "execution_count": null,
   "id": "c0dbc53f-c05a-4d2e-bb6d-a58f8bd1f6a6",
   "metadata": {},
   "outputs": [],
   "source": [
    "varname = 'FG_CO2_2'"
   ]
  },
  {
   "cell_type": "code",
   "execution_count": null,
   "id": "0c7968be-add3-4858-8ee2-fc425196b689",
   "metadata": {},
   "outputs": [],
   "source": [
    "subset = esm_datastore.search(frequency='day_1', varname=varname)\n",
    "print(subset)"
   ]
  },
  {
   "cell_type": "code",
   "execution_count": null,
   "id": "93e7a40a-fb1e-4562-aea2-b56d758b762e",
   "metadata": {},
   "outputs": [],
   "source": [
    "%%time\n",
    "with warnings.catch_warnings():\n",
    "    warnings.filterwarnings(\n",
    "        action=\"ignore\", message=\".*single-machine\", module=\".*base\"\n",
    "    )\n",
    "    ds_dict = subset.to_dataset_dict(\n",
    "        xarray_combine_by_coords_kwargs=xarray_combine_by_coords_kwargs\n",
    "    )\n"
   ]
  },
  {
   "cell_type": "code",
   "execution_count": null,
   "id": "6b0625f6-6841-41f5-b03c-e701fafc7292",
   "metadata": {},
   "outputs": [],
   "source": [
    "key = list(ds_dict)[0]\n",
    "ds = ds_dict[key]\n",
    "ds"
   ]
  },
  {
   "cell_type": "code",
   "execution_count": null,
   "id": "702914d6-2a42-4075-9072-9bb2201ded4e",
   "metadata": {},
   "outputs": [],
   "source": [
    "dims = ds[varname].dims[-2:]\n",
    "ds[varname].isel(time=slice(0,365*3)).mean(dims).plot()"
   ]
  },
  {
   "cell_type": "markdown",
   "id": "5d3c8673-5e88-4982-a176-d6111141ed64",
   "metadata": {
    "tags": []
   },
   "source": [
    "## Release Computational Resources"
   ]
  },
  {
   "cell_type": "code",
   "execution_count": null,
   "id": "aea8434a-7f2b-4d5a-bd1f-15efe0669652",
   "metadata": {},
   "outputs": [],
   "source": [
    "client.close()\n",
    "cluster.close()"
   ]
  },
  {
   "cell_type": "code",
   "execution_count": null,
   "id": "23adf2ed-c4ca-4525-b2b4-2ec57735c9d7",
   "metadata": {},
   "outputs": [],
   "source": []
  }
 ],
 "metadata": {
  "kernelspec": {
   "display_name": "Python [conda env:miniconda3-esm_catalog_utils_usage]",
   "language": "python",
   "name": "conda-env-miniconda3-esm_catalog_utils_usage-py"
  },
  "language_info": {
   "codemirror_mode": {
    "name": "ipython",
    "version": 3
   },
   "file_extension": ".py",
   "mimetype": "text/x-python",
   "name": "python",
   "nbconvert_exporter": "python",
   "pygments_lexer": "ipython3",
   "version": "3.10.10"
  }
 },
 "nbformat": 4,
 "nbformat_minor": 5
}
